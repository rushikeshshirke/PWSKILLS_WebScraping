{
 "cells": [
  {
   "cell_type": "code",
   "execution_count": 1,
   "id": "d1399ca6-1581-4ea7-ac8d-dba5ca357474",
   "metadata": {},
   "outputs": [],
   "source": [
    "# Q1.\n",
    "\n",
    "# Web scraping is the process of using bots to extract content and data from a website. Unlike screen scraping, \n",
    "# which only copies pixels displayed onscreen, web scraping extracts underlying HTML code and, with it, data stored \n",
    "# in a database. The scraper can then replicate entire website content elsewhere.\n",
    "\n",
    "# it is used by people and businesses who want to make use of publicly available web data to generate valuable \n",
    "# insights and make smarter decisions.\n",
    "\n",
    "# Some of the main use cases of web scraping include price monitoring, price intelligence, news monitoring, \n",
    "# lead generation, and market research among many others."
   ]
  },
  {
   "cell_type": "code",
   "execution_count": 2,
   "id": "5ad49a7d-69e6-400d-b050-629a2505386e",
   "metadata": {},
   "outputs": [],
   "source": [
    "# Q2.\n",
    "\n",
    "# Data scraping, or web scraping, is a process of importing data from websites into files or spreadsheets. \n",
    "# It is used to extract data from the web, either for personal use by the scraping operator, or to reuse the \n",
    "# data on other websites. There are numerous software applications for automating data scraping."
   ]
  },
  {
   "cell_type": "code",
   "execution_count": 3,
   "id": "f8198d71-fec7-40e8-8109-f21965f0565a",
   "metadata": {},
   "outputs": [],
   "source": [
    "# Q3.\n",
    "\n",
    "# Beautiful Soup is a Python package for parsing HTML and XML documents (including having malformed markup, i.e. \n",
    "# non-closed tags, so named after tag soup). It creates a parse tree for parsed pages that can be used to extract \n",
    "# data from HTML, which is useful for web scraping."
   ]
  },
  {
   "cell_type": "code",
   "execution_count": 4,
   "id": "f94288e8-c8da-4b8c-b311-7f80e1558be0",
   "metadata": {},
   "outputs": [],
   "source": [
    "# Q4.\n",
    "\n",
    "# Flask provides a simple and consistent interface to the incoming HTTP request data. From accessing form data, \n",
    "# file uploads, cookies, and headers to handling JSON data, Flask's request handling capabilities make it easy \n",
    "# to build robust and secure web applications."
   ]
  },
  {
   "cell_type": "code",
   "execution_count": null,
   "id": "948ded73-f4d8-46b0-a0be-9ca6bef4cf4c",
   "metadata": {},
   "outputs": [],
   "source": [
    "# Q5.\n",
    "\n",
    "# Elastic Beanstalk :\n",
    "#     Elastic Beanstalk is a service for deploying and scaling web applications and services. Upload your \n",
    "#     code and Elastic Beanstalk automatically handles the deployment—from capacity provisioning, \n",
    "#     load balancing, and auto scaling to application health monitoring."
   ]
  }
 ],
 "metadata": {
  "kernelspec": {
   "display_name": "Python 3 (ipykernel)",
   "language": "python",
   "name": "python3"
  },
  "language_info": {
   "codemirror_mode": {
    "name": "ipython",
    "version": 3
   },
   "file_extension": ".py",
   "mimetype": "text/x-python",
   "name": "python",
   "nbconvert_exporter": "python",
   "pygments_lexer": "ipython3",
   "version": "3.10.8"
  }
 },
 "nbformat": 4,
 "nbformat_minor": 5
}
